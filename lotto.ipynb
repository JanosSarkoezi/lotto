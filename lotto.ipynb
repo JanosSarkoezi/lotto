{
 "cells": [
  {
   "cell_type": "code",
   "execution_count": null,
   "id": "4ec10e4d",
   "metadata": {},
   "outputs": [],
   "source": [
    "import pandas as pd\n",
    "xml = pd.read_xml(\"xml/lotto1956.xml\")\n",
    "print(xml)"
   ]
  },
  {
   "cell_type": "code",
   "execution_count": null,
   "id": "1fb043da",
   "metadata": {},
   "outputs": [],
   "source": [
    "div = pd.read_json(\"json/lotto1971.json\")\n",
    "div['div'][0]\n",
    "\n",
    "for item in div['div'][0]:\n",
    "    if 'time' in item:\n",
    "        # print(item['time'] + ': ' + ' '.join(map(str, item['div'][1:7])))\n",
    "        print(str(item['div'][0]) + '. ' + item['time'] + ': ' + ' '.join(map(str, item['div'][1:7])))\n",
    "    "
   ]
  },
  {
   "cell_type": "code",
   "execution_count": null,
   "id": "91af90d8",
   "metadata": {},
   "outputs": [],
   "source": [
    "div = pd.read_json(\"json/lotto1955.json\")\n",
    "div['div'][0]"
   ]
  }
 ],
 "metadata": {
  "kernelspec": {
   "display_name": "Python 3 (ipykernel)",
   "language": "python",
   "name": "python3"
  },
  "language_info": {
   "codemirror_mode": {
    "name": "ipython",
    "version": 3
   },
   "file_extension": ".py",
   "mimetype": "text/x-python",
   "name": "python",
   "nbconvert_exporter": "python",
   "pygments_lexer": "ipython3",
   "version": "3.8.10"
  }
 },
 "nbformat": 4,
 "nbformat_minor": 5
}
