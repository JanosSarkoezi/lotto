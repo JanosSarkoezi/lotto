{
 "cells": [
  {
   "cell_type": "code",
   "execution_count": null,
   "id": "6270cce5",
   "metadata": {
    "scrolled": false
   },
   "outputs": [],
   "source": [
    "import pandas as pd\n",
    "from scipy.stats import binomtest\n",
    "import matplotlib.pyplot as plt\n",
    "\n",
    "def transformer(div):\n",
    "    d = []\n",
    "    for item in div['div'][0]:\n",
    "        if 'time' in item:\n",
    "            d.append({\n",
    "                'time': item['time'],\n",
    "                'draw1': item['div'][1],\n",
    "                'draw2': item['div'][2], \n",
    "                'draw3': item['div'][3], \n",
    "                'draw4': item['div'][4], \n",
    "                'draw5': item['div'][5],\n",
    "                'draw6': item['div'][6],\n",
    "                'draw7': item['div'][7],\n",
    "            })\n",
    "    return d\n",
    "\n",
    "def convertColumnsInOneColumn(dataFrame):\n",
    "    array = []\n",
    "    for column in [str(x) for x in list(range(1,7))]:\n",
    "        array.append(dataFrame[\"draw\" + column])\n",
    "    return array\n",
    "\n",
    "def forAllFiles(fromYear, toYear):\n",
    "    tmp = []\n",
    "    for year in [str(x) for x in list(range(fromYear, toYear))]:\n",
    "        div = pd.read_json(\"json/lotto\" + year + \".json\")\n",
    "        transformed = pd.DataFrame(transformer(div))\n",
    "        tmp.append(transformed)\n",
    "    return tmp\n",
    "\n",
    "summary = pd.concat(forAllFiles(1955, 2022))\n",
    "overall = pd.concat(convertColumnsInOneColumn(summary)).value_counts()\n",
    "newTable = pd.DataFrame({\n",
    "    'Number': overall.index,\n",
    "    'Count': overall.values\n",
    "})\n",
    "\n",
    "sumOverall = sum(newTable['Count'])\n",
    "test = lambda x: binomtest(x, sumOverall, 1/49).pvalue\n",
    "newTable['Test'] = newTable['Count'].apply(test)\n",
    "newTable\n",
    "\n",
    "#plt.figure(figsize=(9,6))\n",
    "#plt.bar(newTable['Number'], newTable['Test'])\n"
   ]
  },
  {
   "cell_type": "code",
   "execution_count": null,
   "id": "817dc007",
   "metadata": {},
   "outputs": [],
   "source": [
    "from scipy.stats import binom\n",
    "from scipy.stats import norm\n",
    "import numpy as np\n",
    "import matplotlib.pyplot as plt\n",
    "\n",
    "numberOfTrials = 35\n",
    "probOfSuccess = 0.7\n",
    "\n",
    "success = {'success': list(range(0, numberOfTrials + 1))}\n",
    "binomTable = pd.DataFrame(success)\n",
    "prob = lambda x: binom.pmf(x, numberOfTrials, probOfSuccess)\n",
    "binomTable['prob'] = binomTable['success'].apply(prob)\n",
    "\n",
    "mu = numberOfTrials * probOfSuccess\n",
    "sigma = np.sqrt(numberOfTrials * probOfSuccess * (1 - probOfSuccess))\n",
    "\n",
    "ticks = {'ticks': np.arange(0, numberOfTrials, 0.1)}\n",
    "normTable = pd.DataFrame(ticks)\n",
    "prob = lambda x: norm.pdf(x, mu, sigma)\n",
    "normTable['prob'] = normTable['ticks'].apply(prob)\n",
    "\n",
    "plt.figure(figsize=(9,6))\n",
    "plt.bar(binomTable['success'], binomTable['prob'])\n",
    "plt.plot(normTable['ticks'], normTable['prob'])"
   ]
  }
 ],
 "metadata": {
  "kernelspec": {
   "display_name": "Python 3 (ipykernel)",
   "language": "python",
   "name": "python3"
  },
  "language_info": {
   "codemirror_mode": {
    "name": "ipython",
    "version": 3
   },
   "file_extension": ".py",
   "mimetype": "text/x-python",
   "name": "python",
   "nbconvert_exporter": "python",
   "pygments_lexer": "ipython3",
   "version": "3.8.10"
  }
 },
 "nbformat": 4,
 "nbformat_minor": 5
}
