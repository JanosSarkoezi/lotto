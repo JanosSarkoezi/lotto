{
 "cells": [
  {
   "cell_type": "code",
   "execution_count": null,
   "id": "4ec10e4d",
   "metadata": {},
   "outputs": [],
   "source": [
    "import pandas as pd\n",
    "xml = pd.read_xml(\"xml/lotto1956.xml\")\n",
    "print(xml)"
   ]
  },
  {
   "cell_type": "code",
   "execution_count": null,
   "id": "6270cce5",
   "metadata": {},
   "outputs": [],
   "source": [
    "div = pd.read_json(\"json/lotto1956.json\")\n",
    "d = []\n",
    "for item in div['div'][0]:\n",
    "    if 'time' in item:\n",
    "        d.append({\n",
    "            'time': item['time'],\n",
    "            'draw1': item['div'][1],\n",
    "            'draw2': item['div'][2], \n",
    "            'draw3': item['div'][3], \n",
    "            'draw4': item['div'][4], \n",
    "            'draw5': item['div'][5],\n",
    "            'draw6': item['div'][6],\n",
    "            'draw7': item['div'][7],\n",
    "        })\n",
    "\n",
    "transformed = pd.DataFrame(d);\n",
    "transformed\n",
    "    "
   ]
  },
  {
   "cell_type": "code",
   "execution_count": null,
   "id": "2525cb02",
   "metadata": {},
   "outputs": [],
   "source": [
    "div = pd.read_json(\"json/lotto1955.json\")\n",
    "div['div'][0]"
   ]
  }
 ],
 "metadata": {
  "kernelspec": {
   "display_name": "Python 3 (ipykernel)",
   "language": "python",
   "name": "python3"
  },
  "language_info": {
   "codemirror_mode": {
    "name": "ipython",
    "version": 3
   },
   "file_extension": ".py",
   "mimetype": "text/x-python",
   "name": "python",
   "nbconvert_exporter": "python",
   "pygments_lexer": "ipython3",
   "version": "3.8.10"
  }
 },
 "nbformat": 4,
 "nbformat_minor": 5
}
